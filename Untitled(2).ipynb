{
 "cells": [
  {
   "cell_type": "code",
   "execution_count": 1,
   "metadata": {
    "collapsed": false
   },
   "outputs": [
    {
     "name": "stdout",
     "output_type": "stream",
     "text": [
      "2044\n"
     ]
    }
   ],
   "source": [
    "#Author:  Joe Friedrich\n",
    "#Purpose: When is the next COhPy Monthly meeting going to happen on LeapDay (February 29th)?\n",
    "\n",
    "import calendar\n",
    "\n",
    "for year in range(2017, 3000):                              #3000 was picked arbitrarily\n",
    "    if calendar.isleap(year) == True:\n",
    "        if calendar.weekday(year, 2, 29) == calendar.MONDAY:\n",
    "            print (year)\n",
    "            break"
   ]
  },
  {
   "cell_type": "code",
   "execution_count": 3,
   "metadata": {
    "collapsed": false
   },
   "outputs": [
    {
     "name": "stdout",
     "output_type": "stream",
     "text": [
      "2044\n"
     ]
    }
   ],
   "source": [
    "#Changed the range to an itertools count operation.\n",
    "\n",
    "import calendar\n",
    "from itertools import count\n",
    "\n",
    "for year in count(2017):\n",
    "    if calendar.isleap(year) == True:\n",
    "        if calendar.weekday(year, 2, 29) == calendar.MONDAY:\n",
    "            print (year)\n",
    "            break"
   ]
  },
  {
   "cell_type": "code",
   "execution_count": 4,
   "metadata": {
    "collapsed": false
   },
   "outputs": [
    {
     "name": "stdout",
     "output_type": "stream",
     "text": [
      "2044\n"
     ]
    }
   ],
   "source": [
    "# Removed the comparison to True.  \n",
    "# Also removed the comparison in general because isleap returns true.\n",
    "\n",
    "import calendar\n",
    "from itertools import count\n",
    "\n",
    "for year in count(2017):\n",
    "    if calendar.isleap(year):\n",
    "        if calendar.weekday(year, 2, 29) == calendar.MONDAY:\n",
    "            print (year)\n",
    "            break"
   ]
  },
  {
   "cell_type": "code",
   "execution_count": 6,
   "metadata": {
    "collapsed": false
   },
   "outputs": [
    {
     "name": "stdout",
     "output_type": "stream",
     "text": [
      "2044\n"
     ]
    }
   ],
   "source": [
    "# Removed magic number 2017.  \n",
    "# Changed it to 2016 and let the machine calculate next year.\n",
    "\n",
    "import calendar\n",
    "from itertools import count\n",
    "\n",
    "start_year = 2016\n",
    "\n",
    "for year in count(start_year + 1):\n",
    "    if calendar.isleap(year):\n",
    "        if calendar.weekday(year, 2, 29) == calendar.MONDAY:\n",
    "            print (year)\n",
    "            break"
   ]
  },
  {
   "cell_type": "code",
   "execution_count": 8,
   "metadata": {
    "collapsed": false
   },
   "outputs": [
    {
     "name": "stdout",
     "output_type": "stream",
     "text": [
      "2044\n"
     ]
    }
   ],
   "source": [
    "# Removed space between print and (year) per PEP-008\n",
    "\n",
    "import calendar\n",
    "from itertools import count\n",
    "\n",
    "start_year = 2016\n",
    "\n",
    "for year in count(start_year + 1):\n",
    "    if calendar.isleap(year):\n",
    "        if calendar.weekday(year, 2, 29) == calendar.MONDAY:\n",
    "            print(year)\n",
    "            break"
   ]
  },
  {
   "cell_type": "code",
   "execution_count": 12,
   "metadata": {
    "collapsed": false
   },
   "outputs": [],
   "source": [
    "# Removed space between print and (year) per PEP-008\n",
    "\n",
    "import calendar\n",
    "from itertools import count\n",
    "\n",
    "def year_of_next_leap_day_meeting(start_year):\n",
    "    start_year = 2016\n",
    "    \n",
    "    for year in count(start_year + 1):\n",
    "        if calendar.isleap(year):\n",
    "            if calendar.weekday(year, 2, 29) == calendar.MONDAY:\n",
    "                print(year)\n",
    "                break"
   ]
  },
  {
   "cell_type": "code",
   "execution_count": 13,
   "metadata": {
    "collapsed": false
   },
   "outputs": [
    {
     "name": "stdout",
     "output_type": "stream",
     "text": [
      "2044\n"
     ]
    }
   ],
   "source": [
    "year_of_next_leap_day_meeting(2016)"
   ]
  },
  {
   "cell_type": "code",
   "execution_count": null,
   "metadata": {
    "collapsed": true
   },
   "outputs": [],
   "source": []
  }
 ],
 "metadata": {
  "kernelspec": {
   "display_name": "Python 3",
   "language": "python",
   "name": "python3"
  },
  "language_info": {
   "codemirror_mode": {
    "name": "ipython",
    "version": 3
   },
   "file_extension": ".py",
   "mimetype": "text/x-python",
   "name": "python",
   "nbconvert_exporter": "python",
   "pygments_lexer": "ipython3",
   "version": "3.4.3"
  }
 },
 "nbformat": 4,
 "nbformat_minor": 0
}
